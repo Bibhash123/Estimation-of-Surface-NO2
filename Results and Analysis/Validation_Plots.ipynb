{
  "nbformat": 4,
  "nbformat_minor": 0,
  "metadata": {
    "colab": {
      "name": "Validation Plots.ipynb",
      "provenance": [],
      "authorship_tag": "ABX9TyOku/XYqh06017e/1bB6tuR",
      "include_colab_link": true
    },
    "kernelspec": {
      "name": "python3",
      "display_name": "Python 3"
    },
    "language_info": {
      "name": "python"
    },
    "accelerator": "GPU"
  },
  "cells": [
    {
      "cell_type": "markdown",
      "metadata": {
        "id": "view-in-github",
        "colab_type": "text"
      },
      "source": [
        "<a href=\"https://colab.research.google.com/github/Bibhash123/Estimation-of-Surface-NO2/blob/main/Results%20and%20Analysis/Validation_Plots.ipynb\" target=\"_parent\"><img src=\"https://colab.research.google.com/assets/colab-badge.svg\" alt=\"Open In Colab\"/></a>"
      ]
    },
    {
      "cell_type": "code",
      "metadata": {
        "id": "atGfbOUIlVbS"
      },
      "source": [
        "!pip install -q kaggle\n",
        "from google.colab import files\n",
        "_ = files.upload()\n",
        "!mkdir ~/.kaggle/\n",
        "!cp kaggle.json ~/.kaggle/kaggle.json\n",
        "!chmod 600 ~/.kaggle/kaggle.json\n",
        "!kaggle datasets download -d bibhash123/ireland2021\n",
        "!unzip ireland2021.zip -d \"/content/dataset\"\n",
        "!rm ireland2021.zip\n",
        "from IPython.display import clear_output\n",
        "clear_output(wait=False)"
      ],
      "execution_count": null,
      "outputs": []
    },
    {
      "cell_type": "code",
      "metadata": {
        "id": "HQp534Pkpptt"
      },
      "source": [
        "!pip uninstall -y shapely\n",
        "!pip uninstall -y cartopy\n",
        "!pip install shapely cartopy --no-binary shapely --no-binary cartopy\n",
        "clear_output(wait=False)"
      ],
      "execution_count": null,
      "outputs": []
    },
    {
      "cell_type": "code",
      "metadata": {
        "id": "mUPcfJsGfhFi"
      },
      "source": [
        "import numpy as np\n",
        "import random\n",
        "import seaborn as sns\n",
        "import pandas as pd\n",
        "import matplotlib.pyplot as plt\n",
        "import tensorflow as tf\n",
        "import tensorflow.keras.layers as L\n",
        "import tensorflow.keras.backend as K\n",
        "from tensorflow.keras.models import Model\n",
        "from tensorflow.keras.optimizers import Adam\n",
        "from tensorflow.keras.metrics import RootMeanSquaredError\n",
        "from sklearn.metrics import mean_squared_error\n",
        "from sklearn.preprocessing import StandardScaler\n",
        "import os\n",
        "from tensorflow.keras.callbacks import ModelCheckpoint\n",
        "from tqdm.notebook import tqdm\n",
        "from sklearn.model_selection import train_test_split\n",
        "import utils\n",
        "import gc\n",
        "\n",
        "SEED=123\n",
        "def seedAll(seed):\n",
        "  random.seed(seed)\n",
        "  np.random.seed(seed)\n",
        "  tf.random.set_seed(seed)\n",
        "  os.environ[\"PYTHONHASHSEED\"]=str(seed)\n",
        "\n",
        "seedAll(SEED)"
      ],
      "execution_count": null,
      "outputs": []
    },
    {
      "cell_type": "markdown",
      "metadata": {
        "id": "YgGKgoiqpKPk"
      },
      "source": [
        "# EXP 1: RMSE Score vs Number of Layers"
      ]
    },
    {
      "cell_type": "code",
      "metadata": {
        "id": "1t6L2HNslYXB"
      },
      "source": [
        "files = pd.read_csv(\"/content/dataset/files.csv\").sample(frac=1).reset_index(drop=True)"
      ],
      "execution_count": null,
      "outputs": []
    },
    {
      "cell_type": "code",
      "metadata": {
        "id": "jqF73aq_lbJv"
      },
      "source": [
        "def loadData(df,satdir = \"/content/dataset/satellite/\",gdir = \"/content/dataset/ground/\"):\n",
        "  X = []\n",
        "  Y = []\n",
        "  for i in range(df.shape[0]):\n",
        "    factor = 46*(6.02214/6.023)*1e2\n",
        "    sat = np.expand_dims(factor*np.load(os.path.join(satdir,df[\"SatFile\"].iloc[i])),axis=2)      \n",
        "    ground = np.load(os.path.join(gdir,df[\"GroundFile\"].iloc[i])).flatten()\n",
        "    if not np.isnan(np.sum(sat)) and not np.isnan(np.sum(ground)):\n",
        "      if not np.std(ground)==0:\n",
        "        X.append(sat)\n",
        "        Y.append(ground)\n",
        "  return np.stack(X,axis=0),np.stack(Y,axis=0)"
      ],
      "execution_count": null,
      "outputs": []
    },
    {
      "cell_type": "markdown",
      "metadata": {
        "id": "jyoJHSRNGcHK"
      },
      "source": [
        "### Exp 1.1: Without MaxPooling"
      ]
    },
    {
      "cell_type": "code",
      "metadata": {
        "id": "6wK9iYRuleC5"
      },
      "source": [
        "def build_model(X_train,num_layers_16=1):\n",
        "  inp = L.Input(shape=X_train[0].shape)\n",
        "  if num_layers_16>=1:\n",
        "    h = L.Conv2D(16,(3,3),activation=\"linear\",padding=\"same\")(inp)\n",
        "    for _ in range(num_layers_16-1):\n",
        "      h = L.Conv2D(16,(3,3),activation=\"linear\")(h)\n",
        "    h = L.Conv2D(32,(3,3),activation=\"linear\")(h)\n",
        "  else:\n",
        "    h = L.Conv2D(32,(3,3),activation=\"linear\")(inp)\n",
        "  out = L.Flatten()(h)\n",
        "  out = L.Dense(100,activation=\"linear\")(out)\n",
        "  out = L.Dense(np.prod(X_train[0].shape),activation=\"linear\")(out)\n",
        "  model = Model(inputs=inp,outputs=out)\n",
        "  model.compile(optimizer=Adam(learning_rate=0.001),loss=\"mse\",\n",
        "                metrics=[RootMeanSquaredError()])\n",
        "  \n",
        "  return model"
      ],
      "execution_count": null,
      "outputs": []
    },
    {
      "cell_type": "code",
      "metadata": {
        "colab": {
          "base_uri": "https://localhost:8080/"
        },
        "id": "7oJJOHtTmS4G",
        "outputId": "965dba74-7b73-434f-dab3-f02bb529c6b0"
      },
      "source": [
        "CV_rmses = []\n",
        "n_trials = 8\n",
        "\n",
        "for i in range(n_trials):\n",
        "  rmses = []\n",
        "  print(\"\\nTraining with {} 16 filter layers\\n\".format(i))\n",
        "\n",
        "  for fold in range(5):\n",
        "    train_files = files[files[\"Fold\"]!=fold]\n",
        "    val_files = files[files[\"Fold\"]==fold]\n",
        "\n",
        "    X_train,Y_train = loadData(train_files)\n",
        "    X_val,Y_val = loadData(val_files)\n",
        "    # loss_plt = utils.loss_plt()\n",
        "    K.clear_session()\n",
        "    model = build_model(X_train,num_layers_16 = i)\n",
        "    if fold==0:\n",
        "      print(model.summary())\n",
        "    ckpt = ModelCheckpoint(f\"model_{fold}.hdf5\",monitor=\"val_root_mean_squared_error\",mode=\"min\",save_best_only=True,save_weights_only=True)\n",
        "    model.fit(X_train,Y_train,\n",
        "              epochs=50,\n",
        "              verbose=0,\n",
        "              batch_size=8,\n",
        "              validation_data = (X_val,Y_val),\n",
        "              callbacks=[ckpt])\n",
        "    model.load_weights(f\"model_{fold}.hdf5\")\n",
        "    rmse = mean_squared_error(Y_val,model.predict(X_val),squared=False)\n",
        "    rmses.append(rmse)\n",
        "    print(\"Fold {} RMSE Score: {}\".format(fold, rmse))\n",
        "    del model\n",
        "    _=gc.collect()\n",
        "  CV_rmses.append(np.mean(rmses))\n",
        "  print(\"\\nCV RMSE Score with {} 16 filter layers: {}\".format(i, np.mean(rmses)))"
      ],
      "execution_count": null,
      "outputs": [
        {
          "output_type": "stream",
          "text": [
            "\n",
            "Training with 0 16 filter layers\n",
            "\n",
            "Model: \"model\"\n",
            "_________________________________________________________________\n",
            "Layer (type)                 Output Shape              Param #   \n",
            "=================================================================\n",
            "input_1 (InputLayer)         [(None, 49, 67, 1)]       0         \n",
            "_________________________________________________________________\n",
            "conv2d (Conv2D)              (None, 47, 65, 32)        320       \n",
            "_________________________________________________________________\n",
            "flatten (Flatten)            (None, 97760)             0         \n",
            "_________________________________________________________________\n",
            "dense (Dense)                (None, 100)               9776100   \n",
            "_________________________________________________________________\n",
            "dense_1 (Dense)              (None, 3283)              331583    \n",
            "=================================================================\n",
            "Total params: 10,108,003\n",
            "Trainable params: 10,108,003\n",
            "Non-trainable params: 0\n",
            "_________________________________________________________________\n",
            "None\n",
            "Fold 0 RMSE Score: 6.754436538080747\n",
            "Fold 1 RMSE Score: 8.132806528959087\n",
            "Fold 2 RMSE Score: 7.329743178012595\n",
            "Fold 3 RMSE Score: 7.112453915995688\n",
            "WARNING:tensorflow:5 out of the last 13 calls to <function Model.make_predict_function.<locals>.predict_function at 0x7fdf804088c0> triggered tf.function retracing. Tracing is expensive and the excessive number of tracings could be due to (1) creating @tf.function repeatedly in a loop, (2) passing tensors with different shapes, (3) passing Python objects instead of tensors. For (1), please define your @tf.function outside of the loop. For (2), @tf.function has experimental_relax_shapes=True option that relaxes argument shapes that can avoid unnecessary retracing. For (3), please refer to https://www.tensorflow.org/guide/function#controlling_retracing and https://www.tensorflow.org/api_docs/python/tf/function for  more details.\n",
            "Fold 4 RMSE Score: 6.8171405437727\n",
            "\n",
            "CV RMSE Score with 0 16 filter layers: 7.229316140964163\n",
            "\n",
            "Training with 1 16 filter layers\n",
            "\n",
            "Model: \"model\"\n",
            "_________________________________________________________________\n",
            "Layer (type)                 Output Shape              Param #   \n",
            "=================================================================\n",
            "input_1 (InputLayer)         [(None, 49, 67, 1)]       0         \n",
            "_________________________________________________________________\n",
            "conv2d (Conv2D)              (None, 49, 67, 16)        160       \n",
            "_________________________________________________________________\n",
            "conv2d_1 (Conv2D)            (None, 47, 65, 32)        4640      \n",
            "_________________________________________________________________\n",
            "flatten (Flatten)            (None, 97760)             0         \n",
            "_________________________________________________________________\n",
            "dense (Dense)                (None, 100)               9776100   \n",
            "_________________________________________________________________\n",
            "dense_1 (Dense)              (None, 3283)              331583    \n",
            "=================================================================\n",
            "Total params: 10,112,483\n",
            "Trainable params: 10,112,483\n",
            "Non-trainable params: 0\n",
            "_________________________________________________________________\n",
            "None\n",
            "WARNING:tensorflow:5 out of the last 13 calls to <function Model.make_predict_function.<locals>.predict_function at 0x7fdf802b5ef0> triggered tf.function retracing. Tracing is expensive and the excessive number of tracings could be due to (1) creating @tf.function repeatedly in a loop, (2) passing tensors with different shapes, (3) passing Python objects instead of tensors. For (1), please define your @tf.function outside of the loop. For (2), @tf.function has experimental_relax_shapes=True option that relaxes argument shapes that can avoid unnecessary retracing. For (3), please refer to https://www.tensorflow.org/guide/function#controlling_retracing and https://www.tensorflow.org/api_docs/python/tf/function for  more details.\n",
            "Fold 0 RMSE Score: 6.825434868069726\n",
            "Fold 1 RMSE Score: 8.13233534640454\n",
            "Fold 2 RMSE Score: 7.395884503559552\n",
            "Fold 3 RMSE Score: 7.235076129520983\n",
            "Fold 4 RMSE Score: 6.888609555683926\n",
            "\n",
            "CV RMSE Score with 1 16 filter layers: 7.295468080647746\n",
            "\n",
            "Training with 2 16 filter layers\n",
            "\n",
            "Model: \"model\"\n",
            "_________________________________________________________________\n",
            "Layer (type)                 Output Shape              Param #   \n",
            "=================================================================\n",
            "input_1 (InputLayer)         [(None, 49, 67, 1)]       0         \n",
            "_________________________________________________________________\n",
            "conv2d (Conv2D)              (None, 49, 67, 16)        160       \n",
            "_________________________________________________________________\n",
            "conv2d_1 (Conv2D)            (None, 47, 65, 16)        2320      \n",
            "_________________________________________________________________\n",
            "conv2d_2 (Conv2D)            (None, 45, 63, 32)        4640      \n",
            "_________________________________________________________________\n",
            "flatten (Flatten)            (None, 90720)             0         \n",
            "_________________________________________________________________\n",
            "dense (Dense)                (None, 100)               9072100   \n",
            "_________________________________________________________________\n",
            "dense_1 (Dense)              (None, 3283)              331583    \n",
            "=================================================================\n",
            "Total params: 9,410,803\n",
            "Trainable params: 9,410,803\n",
            "Non-trainable params: 0\n",
            "_________________________________________________________________\n",
            "None\n",
            "Fold 0 RMSE Score: 6.902535927017574\n",
            "Fold 1 RMSE Score: 8.115087321656729\n",
            "Fold 2 RMSE Score: 7.449226756348158\n",
            "Fold 3 RMSE Score: 7.16786573413612\n",
            "Fold 4 RMSE Score: 6.8678684286541944\n",
            "\n",
            "CV RMSE Score with 2 16 filter layers: 7.300516833562554\n",
            "\n",
            "Training with 3 16 filter layers\n",
            "\n",
            "Model: \"model\"\n",
            "_________________________________________________________________\n",
            "Layer (type)                 Output Shape              Param #   \n",
            "=================================================================\n",
            "input_1 (InputLayer)         [(None, 49, 67, 1)]       0         \n",
            "_________________________________________________________________\n",
            "conv2d (Conv2D)              (None, 49, 67, 16)        160       \n",
            "_________________________________________________________________\n",
            "conv2d_1 (Conv2D)            (None, 47, 65, 16)        2320      \n",
            "_________________________________________________________________\n",
            "conv2d_2 (Conv2D)            (None, 45, 63, 16)        2320      \n",
            "_________________________________________________________________\n",
            "conv2d_3 (Conv2D)            (None, 43, 61, 32)        4640      \n",
            "_________________________________________________________________\n",
            "flatten (Flatten)            (None, 83936)             0         \n",
            "_________________________________________________________________\n",
            "dense (Dense)                (None, 100)               8393700   \n",
            "_________________________________________________________________\n",
            "dense_1 (Dense)              (None, 3283)              331583    \n",
            "=================================================================\n",
            "Total params: 8,734,723\n",
            "Trainable params: 8,734,723\n",
            "Non-trainable params: 0\n",
            "_________________________________________________________________\n",
            "None\n",
            "Fold 0 RMSE Score: 6.84668645521499\n",
            "Fold 1 RMSE Score: 8.098996066076188\n",
            "Fold 2 RMSE Score: 7.598355122367087\n",
            "Fold 3 RMSE Score: 7.105139086574109\n",
            "Fold 4 RMSE Score: 6.860803436838147\n",
            "\n",
            "CV RMSE Score with 3 16 filter layers: 7.301996033414104\n",
            "\n",
            "Training with 4 16 filter layers\n",
            "\n",
            "Model: \"model\"\n",
            "_________________________________________________________________\n",
            "Layer (type)                 Output Shape              Param #   \n",
            "=================================================================\n",
            "input_1 (InputLayer)         [(None, 49, 67, 1)]       0         \n",
            "_________________________________________________________________\n",
            "conv2d (Conv2D)              (None, 49, 67, 16)        160       \n",
            "_________________________________________________________________\n",
            "conv2d_1 (Conv2D)            (None, 47, 65, 16)        2320      \n",
            "_________________________________________________________________\n",
            "conv2d_2 (Conv2D)            (None, 45, 63, 16)        2320      \n",
            "_________________________________________________________________\n",
            "conv2d_3 (Conv2D)            (None, 43, 61, 16)        2320      \n",
            "_________________________________________________________________\n",
            "conv2d_4 (Conv2D)            (None, 41, 59, 32)        4640      \n",
            "_________________________________________________________________\n",
            "flatten (Flatten)            (None, 77408)             0         \n",
            "_________________________________________________________________\n",
            "dense (Dense)                (None, 100)               7740900   \n",
            "_________________________________________________________________\n",
            "dense_1 (Dense)              (None, 3283)              331583    \n",
            "=================================================================\n",
            "Total params: 8,084,243\n",
            "Trainable params: 8,084,243\n",
            "Non-trainable params: 0\n",
            "_________________________________________________________________\n",
            "None\n",
            "Fold 0 RMSE Score: 7.127608013005307\n",
            "Fold 1 RMSE Score: 8.179317633615497\n",
            "Fold 2 RMSE Score: 7.457370255754974\n",
            "Fold 3 RMSE Score: 7.15611042081692\n",
            "Fold 4 RMSE Score: 6.779435470010141\n",
            "\n",
            "CV RMSE Score with 4 16 filter layers: 7.339968358640567\n",
            "\n",
            "Training with 5 16 filter layers\n",
            "\n",
            "Model: \"model\"\n",
            "_________________________________________________________________\n",
            "Layer (type)                 Output Shape              Param #   \n",
            "=================================================================\n",
            "input_1 (InputLayer)         [(None, 49, 67, 1)]       0         \n",
            "_________________________________________________________________\n",
            "conv2d (Conv2D)              (None, 49, 67, 16)        160       \n",
            "_________________________________________________________________\n",
            "conv2d_1 (Conv2D)            (None, 47, 65, 16)        2320      \n",
            "_________________________________________________________________\n",
            "conv2d_2 (Conv2D)            (None, 45, 63, 16)        2320      \n",
            "_________________________________________________________________\n",
            "conv2d_3 (Conv2D)            (None, 43, 61, 16)        2320      \n",
            "_________________________________________________________________\n",
            "conv2d_4 (Conv2D)            (None, 41, 59, 16)        2320      \n",
            "_________________________________________________________________\n",
            "conv2d_5 (Conv2D)            (None, 39, 57, 32)        4640      \n",
            "_________________________________________________________________\n",
            "flatten (Flatten)            (None, 71136)             0         \n",
            "_________________________________________________________________\n",
            "dense (Dense)                (None, 100)               7113700   \n",
            "_________________________________________________________________\n",
            "dense_1 (Dense)              (None, 3283)              331583    \n",
            "=================================================================\n",
            "Total params: 7,459,363\n",
            "Trainable params: 7,459,363\n",
            "Non-trainable params: 0\n",
            "_________________________________________________________________\n",
            "None\n",
            "Fold 0 RMSE Score: 6.942394116833642\n",
            "Fold 1 RMSE Score: 8.347654970117775\n",
            "Fold 2 RMSE Score: 7.405004751719214\n",
            "Fold 3 RMSE Score: 7.133447536647527\n",
            "Fold 4 RMSE Score: 6.980738226275505\n",
            "\n",
            "CV RMSE Score with 5 16 filter layers: 7.361847920318732\n",
            "\n",
            "Training with 6 16 filter layers\n",
            "\n",
            "Model: \"model\"\n",
            "_________________________________________________________________\n",
            "Layer (type)                 Output Shape              Param #   \n",
            "=================================================================\n",
            "input_1 (InputLayer)         [(None, 49, 67, 1)]       0         \n",
            "_________________________________________________________________\n",
            "conv2d (Conv2D)              (None, 49, 67, 16)        160       \n",
            "_________________________________________________________________\n",
            "conv2d_1 (Conv2D)            (None, 47, 65, 16)        2320      \n",
            "_________________________________________________________________\n",
            "conv2d_2 (Conv2D)            (None, 45, 63, 16)        2320      \n",
            "_________________________________________________________________\n",
            "conv2d_3 (Conv2D)            (None, 43, 61, 16)        2320      \n",
            "_________________________________________________________________\n",
            "conv2d_4 (Conv2D)            (None, 41, 59, 16)        2320      \n",
            "_________________________________________________________________\n",
            "conv2d_5 (Conv2D)            (None, 39, 57, 16)        2320      \n",
            "_________________________________________________________________\n",
            "conv2d_6 (Conv2D)            (None, 37, 55, 32)        4640      \n",
            "_________________________________________________________________\n",
            "flatten (Flatten)            (None, 65120)             0         \n",
            "_________________________________________________________________\n",
            "dense (Dense)                (None, 100)               6512100   \n",
            "_________________________________________________________________\n",
            "dense_1 (Dense)              (None, 3283)              331583    \n",
            "=================================================================\n",
            "Total params: 6,860,083\n",
            "Trainable params: 6,860,083\n",
            "Non-trainable params: 0\n",
            "_________________________________________________________________\n",
            "None\n",
            "Fold 0 RMSE Score: 7.025348182741017\n",
            "Fold 1 RMSE Score: 8.443097552028249\n",
            "Fold 2 RMSE Score: 7.637505991907156\n",
            "Fold 3 RMSE Score: 7.168033662381656\n",
            "Fold 4 RMSE Score: 6.87852790398919\n",
            "\n",
            "CV RMSE Score with 6 16 filter layers: 7.430502658609454\n",
            "\n",
            "Training with 7 16 filter layers\n",
            "\n",
            "Model: \"model\"\n",
            "_________________________________________________________________\n",
            "Layer (type)                 Output Shape              Param #   \n",
            "=================================================================\n",
            "input_1 (InputLayer)         [(None, 49, 67, 1)]       0         \n",
            "_________________________________________________________________\n",
            "conv2d (Conv2D)              (None, 49, 67, 16)        160       \n",
            "_________________________________________________________________\n",
            "conv2d_1 (Conv2D)            (None, 47, 65, 16)        2320      \n",
            "_________________________________________________________________\n",
            "conv2d_2 (Conv2D)            (None, 45, 63, 16)        2320      \n",
            "_________________________________________________________________\n",
            "conv2d_3 (Conv2D)            (None, 43, 61, 16)        2320      \n",
            "_________________________________________________________________\n",
            "conv2d_4 (Conv2D)            (None, 41, 59, 16)        2320      \n",
            "_________________________________________________________________\n",
            "conv2d_5 (Conv2D)            (None, 39, 57, 16)        2320      \n",
            "_________________________________________________________________\n",
            "conv2d_6 (Conv2D)            (None, 37, 55, 16)        2320      \n",
            "_________________________________________________________________\n",
            "conv2d_7 (Conv2D)            (None, 35, 53, 32)        4640      \n",
            "_________________________________________________________________\n",
            "flatten (Flatten)            (None, 59360)             0         \n",
            "_________________________________________________________________\n",
            "dense (Dense)                (None, 100)               5936100   \n",
            "_________________________________________________________________\n",
            "dense_1 (Dense)              (None, 3283)              331583    \n",
            "=================================================================\n",
            "Total params: 6,286,403\n",
            "Trainable params: 6,286,403\n",
            "Non-trainable params: 0\n",
            "_________________________________________________________________\n",
            "None\n",
            "Fold 0 RMSE Score: 7.054902938061129\n",
            "Fold 1 RMSE Score: 8.28326581304684\n",
            "Fold 2 RMSE Score: 7.450352853923119\n",
            "Fold 3 RMSE Score: 7.127621601517208\n",
            "Fold 4 RMSE Score: 7.023860978452224\n",
            "\n",
            "CV RMSE Score with 7 16 filter layers: 7.388000837000104\n"
          ],
          "name": "stdout"
        }
      ]
    },
    {
      "cell_type": "markdown",
      "metadata": {
        "id": "stB8BYWUsfGE"
      },
      "source": [
        "### Exp 1.2 : With Max Pooling"
      ]
    },
    {
      "cell_type": "code",
      "metadata": {
        "id": "4QJ7bpOlioio"
      },
      "source": [
        "del model\n",
        "_ = gc.collect()"
      ],
      "execution_count": null,
      "outputs": []
    },
    {
      "cell_type": "code",
      "metadata": {
        "id": "1a01xaSVskmT"
      },
      "source": [
        "def build_model(X_train,num_layers_16=1):\n",
        "  inp = L.Input(shape=X_train[0].shape)\n",
        "  if num_layers_16>=1:\n",
        "    h = L.Conv2D(16,(3,3),activation=\"linear\",padding=\"same\")(inp)\n",
        "    for j in range(num_layers_16-1):\n",
        "      h = L.Conv2D(16,(3,3),activation=\"linear\")(h)\n",
        "      if j%3==0:\n",
        "        h = L.MaxPooling2D(pool_size=(2,2),strides=2)(h)\n",
        "\n",
        "    h = L.Conv2D(32,(3,3),activation=\"linear\")(h)\n",
        "  else:\n",
        "    h = L.Conv2D(32,(3,3),activation=\"linear\")(inp)\n",
        "  out = L.Flatten()(h)\n",
        "  out = L.Dense(100,activation=\"linear\")(out)\n",
        "  out = L.Dense(np.prod(X_train[0].shape),activation=\"linear\")(out)\n",
        "  model = Model(inputs=inp,outputs=out)\n",
        "  model.compile(optimizer=Adam(learning_rate=0.001),loss=\"mse\",\n",
        "                metrics=[RootMeanSquaredError()])\n",
        "  \n",
        "  return model"
      ],
      "execution_count": null,
      "outputs": []
    },
    {
      "cell_type": "code",
      "metadata": {
        "colab": {
          "base_uri": "https://localhost:8080/"
        },
        "id": "cGX3aW5RslYZ",
        "outputId": "34d4f3ff-1013-4e45-8b07-a7105a9b7408"
      },
      "source": [
        "CV_rmses_with = []\n",
        "n_trials = 8\n",
        "\n",
        "for i in range(n_trials):\n",
        "  rmses = []\n",
        "  print(\"\\nTraining with {} 16 filter layers\\n\".format(i))\n",
        "\n",
        "  for fold in range(5):\n",
        "    train_files = files[files[\"Fold\"]!=fold]\n",
        "    val_files = files[files[\"Fold\"]==fold]\n",
        "\n",
        "    X_train,Y_train = loadData(train_files)\n",
        "    X_val,Y_val = loadData(val_files)\n",
        "    # loss_plt = utils.loss_plt()\n",
        "    K.clear_session()\n",
        "    model = build_model(X_train,num_layers_16 = i)\n",
        "    if fold==0:\n",
        "      print(model.summary())\n",
        "    ckpt = ModelCheckpoint(f\"model_{fold}.hdf5\",monitor=\"val_root_mean_squared_error\",mode=\"min\",save_best_only=True,save_weights_only=True)\n",
        "    model.fit(X_train,Y_train,\n",
        "              epochs=50,\n",
        "              verbose=0,\n",
        "              batch_size=8,\n",
        "              validation_data = (X_val,Y_val),\n",
        "              callbacks=[ckpt])\n",
        "    model.load_weights(f\"model_{fold}.hdf5\")\n",
        "    rmse = mean_squared_error(Y_val,model.predict(X_val),squared=False)\n",
        "    rmses.append(rmse)\n",
        "    print(\"Fold {} RMSE Score: {}\".format(fold, rmse))\n",
        "    del model\n",
        "    _=gc.collect()\n",
        "  CV_rmses_with.append(np.mean(rmses))\n",
        "  print(\"\\nCV RMSE Score with {} 16 filter layers: {}\".format(i, np.mean(rmses)))"
      ],
      "execution_count": null,
      "outputs": [
        {
          "output_type": "stream",
          "text": [
            "\n",
            "Training with 0 16 filter layers\n",
            "\n",
            "Model: \"model\"\n",
            "_________________________________________________________________\n",
            "Layer (type)                 Output Shape              Param #   \n",
            "=================================================================\n",
            "input_1 (InputLayer)         [(None, 49, 67, 1)]       0         \n",
            "_________________________________________________________________\n",
            "conv2d (Conv2D)              (None, 47, 65, 32)        320       \n",
            "_________________________________________________________________\n",
            "flatten (Flatten)            (None, 97760)             0         \n",
            "_________________________________________________________________\n",
            "dense (Dense)                (None, 100)               9776100   \n",
            "_________________________________________________________________\n",
            "dense_1 (Dense)              (None, 3283)              331583    \n",
            "=================================================================\n",
            "Total params: 10,108,003\n",
            "Trainable params: 10,108,003\n",
            "Non-trainable params: 0\n",
            "_________________________________________________________________\n",
            "None\n",
            "Fold 0 RMSE Score: 6.764757630274225\n",
            "Fold 1 RMSE Score: 8.175115511396056\n",
            "Fold 2 RMSE Score: 7.350546966486109\n",
            "Fold 3 RMSE Score: 7.124225789403729\n",
            "Fold 4 RMSE Score: 6.849977703107224\n",
            "\n",
            "CV RMSE Score with 0 16 filter layers: 7.252924720133469\n",
            "\n",
            "Training with 1 16 filter layers\n",
            "\n",
            "Model: \"model\"\n",
            "_________________________________________________________________\n",
            "Layer (type)                 Output Shape              Param #   \n",
            "=================================================================\n",
            "input_1 (InputLayer)         [(None, 49, 67, 1)]       0         \n",
            "_________________________________________________________________\n",
            "conv2d (Conv2D)              (None, 49, 67, 16)        160       \n",
            "_________________________________________________________________\n",
            "conv2d_1 (Conv2D)            (None, 47, 65, 32)        4640      \n",
            "_________________________________________________________________\n",
            "flatten (Flatten)            (None, 97760)             0         \n",
            "_________________________________________________________________\n",
            "dense (Dense)                (None, 100)               9776100   \n",
            "_________________________________________________________________\n",
            "dense_1 (Dense)              (None, 3283)              331583    \n",
            "=================================================================\n",
            "Total params: 10,112,483\n",
            "Trainable params: 10,112,483\n",
            "Non-trainable params: 0\n",
            "_________________________________________________________________\n",
            "None\n",
            "Fold 0 RMSE Score: 6.874161625780381\n",
            "Fold 1 RMSE Score: 8.179976524383022\n",
            "Fold 2 RMSE Score: 7.50617415670859\n",
            "Fold 3 RMSE Score: 7.168131184916226\n",
            "Fold 4 RMSE Score: 6.995969962458372\n",
            "\n",
            "CV RMSE Score with 1 16 filter layers: 7.344882690849319\n",
            "\n",
            "Training with 2 16 filter layers\n",
            "\n",
            "Model: \"model\"\n",
            "_________________________________________________________________\n",
            "Layer (type)                 Output Shape              Param #   \n",
            "=================================================================\n",
            "input_1 (InputLayer)         [(None, 49, 67, 1)]       0         \n",
            "_________________________________________________________________\n",
            "conv2d (Conv2D)              (None, 49, 67, 16)        160       \n",
            "_________________________________________________________________\n",
            "conv2d_1 (Conv2D)            (None, 47, 65, 16)        2320      \n",
            "_________________________________________________________________\n",
            "max_pooling2d (MaxPooling2D) (None, 23, 32, 16)        0         \n",
            "_________________________________________________________________\n",
            "conv2d_2 (Conv2D)            (None, 21, 30, 32)        4640      \n",
            "_________________________________________________________________\n",
            "flatten (Flatten)            (None, 20160)             0         \n",
            "_________________________________________________________________\n",
            "dense (Dense)                (None, 100)               2016100   \n",
            "_________________________________________________________________\n",
            "dense_1 (Dense)              (None, 3283)              331583    \n",
            "=================================================================\n",
            "Total params: 2,354,803\n",
            "Trainable params: 2,354,803\n",
            "Non-trainable params: 0\n",
            "_________________________________________________________________\n",
            "None\n",
            "Fold 0 RMSE Score: 6.86087069199927\n",
            "Fold 1 RMSE Score: 8.129646925205051\n",
            "Fold 2 RMSE Score: 7.136306990358038\n",
            "Fold 3 RMSE Score: 7.032266176347584\n",
            "Fold 4 RMSE Score: 6.729471004791897\n",
            "\n",
            "CV RMSE Score with 2 16 filter layers: 7.177712357740367\n",
            "\n",
            "Training with 3 16 filter layers\n",
            "\n",
            "Model: \"model\"\n",
            "_________________________________________________________________\n",
            "Layer (type)                 Output Shape              Param #   \n",
            "=================================================================\n",
            "input_1 (InputLayer)         [(None, 49, 67, 1)]       0         \n",
            "_________________________________________________________________\n",
            "conv2d (Conv2D)              (None, 49, 67, 16)        160       \n",
            "_________________________________________________________________\n",
            "conv2d_1 (Conv2D)            (None, 47, 65, 16)        2320      \n",
            "_________________________________________________________________\n",
            "max_pooling2d (MaxPooling2D) (None, 23, 32, 16)        0         \n",
            "_________________________________________________________________\n",
            "conv2d_2 (Conv2D)            (None, 21, 30, 16)        2320      \n",
            "_________________________________________________________________\n",
            "conv2d_3 (Conv2D)            (None, 19, 28, 32)        4640      \n",
            "_________________________________________________________________\n",
            "flatten (Flatten)            (None, 17024)             0         \n",
            "_________________________________________________________________\n",
            "dense (Dense)                (None, 100)               1702500   \n",
            "_________________________________________________________________\n",
            "dense_1 (Dense)              (None, 3283)              331583    \n",
            "=================================================================\n",
            "Total params: 2,043,523\n",
            "Trainable params: 2,043,523\n",
            "Non-trainable params: 0\n",
            "_________________________________________________________________\n",
            "None\n",
            "Fold 0 RMSE Score: 6.815223037030469\n",
            "Fold 1 RMSE Score: 8.17577823197214\n",
            "Fold 2 RMSE Score: 7.240706450807827\n",
            "Fold 3 RMSE Score: 7.043737977752877\n",
            "Fold 4 RMSE Score: 6.606070478462052\n",
            "\n",
            "CV RMSE Score with 3 16 filter layers: 7.176303235205073\n",
            "\n",
            "Training with 4 16 filter layers\n",
            "\n",
            "Model: \"model\"\n",
            "_________________________________________________________________\n",
            "Layer (type)                 Output Shape              Param #   \n",
            "=================================================================\n",
            "input_1 (InputLayer)         [(None, 49, 67, 1)]       0         \n",
            "_________________________________________________________________\n",
            "conv2d (Conv2D)              (None, 49, 67, 16)        160       \n",
            "_________________________________________________________________\n",
            "conv2d_1 (Conv2D)            (None, 47, 65, 16)        2320      \n",
            "_________________________________________________________________\n",
            "max_pooling2d (MaxPooling2D) (None, 23, 32, 16)        0         \n",
            "_________________________________________________________________\n",
            "conv2d_2 (Conv2D)            (None, 21, 30, 16)        2320      \n",
            "_________________________________________________________________\n",
            "conv2d_3 (Conv2D)            (None, 19, 28, 16)        2320      \n",
            "_________________________________________________________________\n",
            "conv2d_4 (Conv2D)            (None, 17, 26, 32)        4640      \n",
            "_________________________________________________________________\n",
            "flatten (Flatten)            (None, 14144)             0         \n",
            "_________________________________________________________________\n",
            "dense (Dense)                (None, 100)               1414500   \n",
            "_________________________________________________________________\n",
            "dense_1 (Dense)              (None, 3283)              331583    \n",
            "=================================================================\n",
            "Total params: 1,757,843\n",
            "Trainable params: 1,757,843\n",
            "Non-trainable params: 0\n",
            "_________________________________________________________________\n",
            "None\n",
            "Fold 0 RMSE Score: 7.028454291184318\n",
            "Fold 1 RMSE Score: 8.245379107571688\n",
            "Fold 2 RMSE Score: 7.568225636128093\n",
            "Fold 3 RMSE Score: 6.9972690396663015\n",
            "Fold 4 RMSE Score: 6.846137914626972\n",
            "\n",
            "CV RMSE Score with 4 16 filter layers: 7.3370931978354745\n",
            "\n",
            "Training with 5 16 filter layers\n",
            "\n",
            "Model: \"model\"\n",
            "_________________________________________________________________\n",
            "Layer (type)                 Output Shape              Param #   \n",
            "=================================================================\n",
            "input_1 (InputLayer)         [(None, 49, 67, 1)]       0         \n",
            "_________________________________________________________________\n",
            "conv2d (Conv2D)              (None, 49, 67, 16)        160       \n",
            "_________________________________________________________________\n",
            "conv2d_1 (Conv2D)            (None, 47, 65, 16)        2320      \n",
            "_________________________________________________________________\n",
            "max_pooling2d (MaxPooling2D) (None, 23, 32, 16)        0         \n",
            "_________________________________________________________________\n",
            "conv2d_2 (Conv2D)            (None, 21, 30, 16)        2320      \n",
            "_________________________________________________________________\n",
            "conv2d_3 (Conv2D)            (None, 19, 28, 16)        2320      \n",
            "_________________________________________________________________\n",
            "conv2d_4 (Conv2D)            (None, 17, 26, 16)        2320      \n",
            "_________________________________________________________________\n",
            "max_pooling2d_1 (MaxPooling2 (None, 8, 13, 16)         0         \n",
            "_________________________________________________________________\n",
            "conv2d_5 (Conv2D)            (None, 6, 11, 32)         4640      \n",
            "_________________________________________________________________\n",
            "flatten (Flatten)            (None, 2112)              0         \n",
            "_________________________________________________________________\n",
            "dense (Dense)                (None, 100)               211300    \n",
            "_________________________________________________________________\n",
            "dense_1 (Dense)              (None, 3283)              331583    \n",
            "=================================================================\n",
            "Total params: 556,963\n",
            "Trainable params: 556,963\n",
            "Non-trainable params: 0\n",
            "_________________________________________________________________\n",
            "None\n",
            "Fold 0 RMSE Score: 6.731177486042904\n",
            "Fold 1 RMSE Score: 8.207850577407287\n",
            "Fold 2 RMSE Score: 7.311634183283301\n",
            "Fold 3 RMSE Score: 6.962063226198017\n",
            "Fold 4 RMSE Score: 6.771977546099948\n",
            "\n",
            "CV RMSE Score with 5 16 filter layers: 7.196940603806292\n",
            "\n",
            "Training with 6 16 filter layers\n",
            "\n",
            "Model: \"model\"\n",
            "_________________________________________________________________\n",
            "Layer (type)                 Output Shape              Param #   \n",
            "=================================================================\n",
            "input_1 (InputLayer)         [(None, 49, 67, 1)]       0         \n",
            "_________________________________________________________________\n",
            "conv2d (Conv2D)              (None, 49, 67, 16)        160       \n",
            "_________________________________________________________________\n",
            "conv2d_1 (Conv2D)            (None, 47, 65, 16)        2320      \n",
            "_________________________________________________________________\n",
            "max_pooling2d (MaxPooling2D) (None, 23, 32, 16)        0         \n",
            "_________________________________________________________________\n",
            "conv2d_2 (Conv2D)            (None, 21, 30, 16)        2320      \n",
            "_________________________________________________________________\n",
            "conv2d_3 (Conv2D)            (None, 19, 28, 16)        2320      \n",
            "_________________________________________________________________\n",
            "conv2d_4 (Conv2D)            (None, 17, 26, 16)        2320      \n",
            "_________________________________________________________________\n",
            "max_pooling2d_1 (MaxPooling2 (None, 8, 13, 16)         0         \n",
            "_________________________________________________________________\n",
            "conv2d_5 (Conv2D)            (None, 6, 11, 16)         2320      \n",
            "_________________________________________________________________\n",
            "conv2d_6 (Conv2D)            (None, 4, 9, 32)          4640      \n",
            "_________________________________________________________________\n",
            "flatten (Flatten)            (None, 1152)              0         \n",
            "_________________________________________________________________\n",
            "dense (Dense)                (None, 100)               115300    \n",
            "_________________________________________________________________\n",
            "dense_1 (Dense)              (None, 3283)              331583    \n",
            "=================================================================\n",
            "Total params: 463,283\n",
            "Trainable params: 463,283\n",
            "Non-trainable params: 0\n",
            "_________________________________________________________________\n",
            "None\n",
            "Fold 0 RMSE Score: 6.824335095485194\n",
            "Fold 1 RMSE Score: 8.59126649576975\n",
            "Fold 2 RMSE Score: 7.112113156343016\n",
            "Fold 3 RMSE Score: 6.992290726390004\n",
            "Fold 4 RMSE Score: 6.914079458044191\n",
            "\n",
            "CV RMSE Score with 6 16 filter layers: 7.286816986406431\n",
            "\n",
            "Training with 7 16 filter layers\n",
            "\n",
            "Model: \"model\"\n",
            "_________________________________________________________________\n",
            "Layer (type)                 Output Shape              Param #   \n",
            "=================================================================\n",
            "input_1 (InputLayer)         [(None, 49, 67, 1)]       0         \n",
            "_________________________________________________________________\n",
            "conv2d (Conv2D)              (None, 49, 67, 16)        160       \n",
            "_________________________________________________________________\n",
            "conv2d_1 (Conv2D)            (None, 47, 65, 16)        2320      \n",
            "_________________________________________________________________\n",
            "max_pooling2d (MaxPooling2D) (None, 23, 32, 16)        0         \n",
            "_________________________________________________________________\n",
            "conv2d_2 (Conv2D)            (None, 21, 30, 16)        2320      \n",
            "_________________________________________________________________\n",
            "conv2d_3 (Conv2D)            (None, 19, 28, 16)        2320      \n",
            "_________________________________________________________________\n",
            "conv2d_4 (Conv2D)            (None, 17, 26, 16)        2320      \n",
            "_________________________________________________________________\n",
            "max_pooling2d_1 (MaxPooling2 (None, 8, 13, 16)         0         \n",
            "_________________________________________________________________\n",
            "conv2d_5 (Conv2D)            (None, 6, 11, 16)         2320      \n",
            "_________________________________________________________________\n",
            "conv2d_6 (Conv2D)            (None, 4, 9, 16)          2320      \n",
            "_________________________________________________________________\n",
            "conv2d_7 (Conv2D)            (None, 2, 7, 32)          4640      \n",
            "_________________________________________________________________\n",
            "flatten (Flatten)            (None, 448)               0         \n",
            "_________________________________________________________________\n",
            "dense (Dense)                (None, 100)               44900     \n",
            "_________________________________________________________________\n",
            "dense_1 (Dense)              (None, 3283)              331583    \n",
            "=================================================================\n",
            "Total params: 395,203\n",
            "Trainable params: 395,203\n",
            "Non-trainable params: 0\n",
            "_________________________________________________________________\n",
            "None\n",
            "Fold 0 RMSE Score: 6.969059373088984\n",
            "Fold 1 RMSE Score: 8.509473650813149\n",
            "Fold 2 RMSE Score: 7.603394342441764\n",
            "Fold 3 RMSE Score: 7.071755838142186\n",
            "Fold 4 RMSE Score: 7.078416355724055\n",
            "\n",
            "CV RMSE Score with 7 16 filter layers: 7.446419912042029\n"
          ],
          "name": "stdout"
        }
      ]
    },
    {
      "cell_type": "code",
      "metadata": {
        "id": "8yayJeU5tm3k"
      },
      "source": [
        "df = pd.DataFrame(columns=[\"n_16_layers\",\"CV RMSE\",\"maxpool\"])\n",
        "df.loc[:,'n_16_layers'] = list(range(n_trials))+list(range(n_trials))\n",
        "df.loc[:,'CV RMSE'] = CV_rmses+CV_rmses_with\n",
        "df.loc[:,\"maxpool\"] = [False for _ in range(n_trials)]+[True for _ in range(n_trials)]"
      ],
      "execution_count": null,
      "outputs": []
    },
    {
      "cell_type": "code",
      "metadata": {
        "colab": {
          "base_uri": "https://localhost:8080/",
          "height": 406
        },
        "id": "S7Hav7bunjAX",
        "outputId": "30520038-f49a-4ad2-b421-55ce745a7294"
      },
      "source": [
        "plt.figure(figsize=(9,6))\n",
        "sns.lineplot(data = df, x = \"n_16_layers\", y = 'CV RMSE',hue='maxpool',\n",
        "             style=\"maxpool\", markers=True, dashes=False)"
      ],
      "execution_count": null,
      "outputs": [
        {
          "output_type": "execute_result",
          "data": {
            "text/plain": [
              "<matplotlib.axes._subplots.AxesSubplot at 0x7fdf95bc7650>"
            ]
          },
          "metadata": {
            "tags": []
          },
          "execution_count": 12
        },
        {
          "output_type": "display_data",
          "data": {
            "image/png": "[encoded data removed]",
            "text/plain": [
              "<Figure size 648x432 with 1 Axes>"
            ]
          },
          "metadata": {
            "tags": [],
            "needs_background": "light"
          }
        }
      ]
    },
    {
      "cell_type": "markdown",
      "metadata": {
        "id": "J1Eq80H3GhW2"
      },
      "source": [
        "# Exp 2: R2 Varying with time (out of folds)"
      ]
    },
    {
      "cell_type": "code",
      "metadata": {
        "id": "_DJ2BbX5xEB7"
      },
      "source": [
        "import json"
      ],
      "execution_count": null,
      "outputs": []
    },
    {
      "cell_type": "code",
      "metadata": {
        "id": "IsSXxPKcNVZt"
      },
      "source": [
        "with open(\"R2Scores.json\") as f:\n",
        "  data = json.load(f)\n",
        "\n",
        "df = pd.DataFrame(columns=[\"date\",\"Pearson Coeff\"])\n",
        "for fold in range(5):\n",
        "  scores = data[f\"Fold {fold+1}\"]\n",
        "  dates = files[files[\"Fold\"]==fold][\"Date\"]\n",
        "  df = df.append(pd.DataFrame(list(zip(dates,scores)),columns=[\"date\",\"Pearson Coeff\"]),ignore_index=True)\n",
        "\n",
        "df = df.sort_values(by=\"date\")"
      ],
      "execution_count": null,
      "outputs": []
    },
    {
      "cell_type": "code",
      "metadata": {
        "colab": {
          "base_uri": "https://localhost:8080/",
          "height": 388
        },
        "id": "uVUrLh4zRFPS",
        "outputId": "48872011-47d5-45c1-b6b9-aeda714b61b6"
      },
      "source": [
        "plt.figure(figsize=(9,6))\n",
        "plot = sns.lineplot(data = df,x = \"date\",y = \"Pearson Coeff\",palette='viridis')\n",
        "plot.set(xticklabels = [df.iloc[0,0]]+[\" \" for _ in range(len(df)-2)]+[df.iloc[-1,0]])\n",
        "plt.show()"
      ],
      "execution_count": null,
      "outputs": [
        {
          "output_type": "display_data",
          "data": {
            "image/png": "[encoded data removed]",
            "text/plain": [
              "<Figure size 648x432 with 1 Axes>"
            ]
          },
          "metadata": {
            "tags": [],
            "needs_background": "light"
          }
        }
      ]
    },
    {
      "cell_type": "markdown",
      "metadata": {
        "id": "yOWe8vJ7Zldo"
      },
      "source": [
        "# Experiment 3: RMSE Varying with dataset size"
      ]
    },
    {
      "cell_type": "code",
      "metadata": {
        "id": "2WSNc3PUSD3e"
      },
      "source": [
        "def build_model(X_train,num_layers_16=1):\n",
        "  inp = L.Input(shape=X_train[0].shape)\n",
        "  if num_layers_16>=1:\n",
        "    h = L.Conv2D(16,(3,3),activation=\"linear\",padding=\"same\")(inp)\n",
        "    for j in range(num_layers_16-1):\n",
        "      h = L.Conv2D(16,(3,3),activation=\"linear\")(h)\n",
        "      if j%3==0:\n",
        "        h = L.MaxPooling2D(pool_size=(2,2),strides=2)(h)\n",
        "\n",
        "    h = L.Conv2D(32,(3,3),activation=\"linear\")(h)\n",
        "  else:\n",
        "    h = L.Conv2D(32,(3,3),activation=\"linear\")(inp)\n",
        "  out = L.Flatten()(h)\n",
        "  out = L.Dense(100,activation=\"linear\")(out)\n",
        "  out = L.Dense(np.prod(X_train[0].shape),activation=\"linear\")(out)\n",
        "  model = Model(inputs=inp,outputs=out)\n",
        "  model.compile(optimizer=Adam(learning_rate=0.001),loss=\"mse\",\n",
        "                metrics=[RootMeanSquaredError()])\n",
        "  \n",
        "  return model"
      ],
      "execution_count": null,
      "outputs": []
    },
    {
      "cell_type": "code",
      "metadata": {
        "id": "Ogkt1OSZoT9v"
      },
      "source": [
        "def DataOfNextSize(df,step=20):\n",
        "  df = df.reset_index(drop=True)\n",
        "  mask = [True for _ in range(len(df))]\n",
        "  for fold in range(5):\n",
        "    indices = np.random.choice(list(df[df[\"Fold\"]==fold].index),step//5,replace=False)\n",
        "    for index in indices:\n",
        "      mask[index]=False\n",
        "  df = df.loc[mask,:]\n",
        "  return df"
      ],
      "execution_count": null,
      "outputs": []
    },
    {
      "cell_type": "code",
      "metadata": {
        "id": "_abelJ-eukwm"
      },
      "source": [
        "new_df = files.copy()"
      ],
      "execution_count": null,
      "outputs": []
    },
    {
      "cell_type": "code",
      "metadata": {
        "id": "_90bhb0Qv1R3"
      },
      "source": [
        "def trainFunction(df):\n",
        "  rmses=[]\n",
        "  for fold in range(5):\n",
        "    train_files = df[df[\"Fold\"]!=fold]\n",
        "    val_files = df[df[\"Fold\"]==fold]\n",
        "\n",
        "    X_train,Y_train = loadData(train_files)\n",
        "    X_val,Y_val = loadData(val_files)\n",
        "    # loss_plt = utils.loss_plt()\n",
        "    K.clear_session()\n",
        "    model = build_model(X_train,num_layers_16 = 3)\n",
        "    \n",
        "    ckpt = ModelCheckpoint(f\"model_{fold}.hdf5\",monitor=\"val_root_mean_squared_error\",mode=\"min\",save_best_only=True,save_weights_only=True)\n",
        "    model.fit(X_train,Y_train,\n",
        "              epochs=50,\n",
        "              verbose=0,\n",
        "              batch_size=8,\n",
        "              validation_data = (X_val,Y_val),\n",
        "              callbacks=[ckpt]\n",
        "              )\n",
        "    model.load_weights(f\"model_{fold}.hdf5\")\n",
        "    rmse = mean_squared_error(Y_val,model.predict(X_val),squared=False)\n",
        "    rmses.append(rmse)\n",
        "    del model\n",
        "    _ = gc.collect()\n",
        "  print(\"RMSE Score: {}\".format(np.mean(rmses)))\n",
        "  return np.mean(rmses)"
      ],
      "execution_count": null,
      "outputs": []
    },
    {
      "cell_type": "code",
      "metadata": {
        "colab": {
          "base_uri": "https://localhost:8080/"
        },
        "id": "ezTelrnxvi9z",
        "outputId": "b6a04d2d-e666-4ce6-a360-4819528b82eb"
      },
      "source": [
        "scores = []\n",
        "data_sizes = []\n",
        "\n",
        "while new_df.shape[0]>100:\n",
        "  print(\"Input Data of Size {}\".format(len(new_df)))\n",
        "  data_sizes.append(len(new_df))\n",
        "  rmse_score = trainFunction(new_df)\n",
        "  scores.append(rmse_score)\n",
        "  new_df = DataOfNextSize(new_df,step=40)\n",
        "  \n",
        "record = pd.DataFrame.from_dict({\n",
        "    'Data Size':data_sizes,\n",
        "    'RMSE Scores':scores\n",
        "})"
      ],
      "execution_count": null,
      "outputs": [
        {
          "output_type": "stream",
          "text": [
            "Input Data of Size 486\n",
            "WARNING:tensorflow:5 out of the last 13 calls to <function Model.make_predict_function.<locals>.predict_function at 0x7ff7e80c65f0> triggered tf.function retracing. Tracing is expensive and the excessive number of tracings could be due to (1) creating @tf.function repeatedly in a loop, (2) passing tensors with different shapes, (3) passing Python objects instead of tensors. For (1), please define your @tf.function outside of the loop. For (2), @tf.function has experimental_relax_shapes=True option that relaxes argument shapes that can avoid unnecessary retracing. For (3), please refer to https://www.tensorflow.org/guide/function#controlling_retracing and https://www.tensorflow.org/api_docs/python/tf/function for  more details.\n",
            "RMSE Score: 7.202726632015278\n",
            "Input Data of Size 446\n",
            "WARNING:tensorflow:5 out of the last 13 calls to <function Model.make_predict_function.<locals>.predict_function at 0x7ff7d66cb3b0> triggered tf.function retracing. Tracing is expensive and the excessive number of tracings could be due to (1) creating @tf.function repeatedly in a loop, (2) passing tensors with different shapes, (3) passing Python objects instead of tensors. For (1), please define your @tf.function outside of the loop. For (2), @tf.function has experimental_relax_shapes=True option that relaxes argument shapes that can avoid unnecessary retracing. For (3), please refer to https://www.tensorflow.org/guide/function#controlling_retracing and https://www.tensorflow.org/api_docs/python/tf/function for  more details.\n",
            "RMSE Score: 7.242174521490229\n",
            "Input Data of Size 406\n",
            "RMSE Score: 7.05142166503163\n",
            "Input Data of Size 366\n",
            "RMSE Score: 6.944639747249059\n",
            "Input Data of Size 326\n",
            "RMSE Score: 7.038620822891026\n",
            "Input Data of Size 286\n",
            "RMSE Score: 6.982863691421008\n",
            "Input Data of Size 246\n",
            "RMSE Score: 7.044868535249693\n",
            "Input Data of Size 206\n",
            "RMSE Score: 7.218399387761794\n",
            "Input Data of Size 166\n",
            "RMSE Score: 7.241576856493727\n",
            "Input Data of Size 126\n",
            "RMSE Score: 6.572419382100312\n"
          ],
          "name": "stdout"
        }
      ]
    },
    {
      "cell_type": "code",
      "metadata": {
        "colab": {
          "base_uri": "https://localhost:8080/",
          "height": 405
        },
        "id": "7ZV-CkRd-L1X",
        "outputId": "33aae938-8c73-494a-b501-23afb18fc8dd"
      },
      "source": [
        "plt.figure(figsize=(9,6))\n",
        "sns.lineplot(data=record, x= \"Data Size\", y = \"RMSE Scores\",marker=True,dashes=False,color=\"green\")\n",
        "sns.scatterplot(data=record, x= \"Data Size\", y = \"RMSE Scores\",color=\"black\")"
      ],
      "execution_count": null,
      "outputs": [
        {
          "output_type": "execute_result",
          "data": {
            "text/plain": [
              "<matplotlib.axes._subplots.AxesSubplot at 0x7ff7d6da3f50>"
            ]
          },
          "metadata": {
            "tags": []
          },
          "execution_count": 22
        },
        {
          "output_type": "display_data",
          "data": {
            "image/png": "[encoded data removed]",
            "text/plain": [
              "<Figure size 648x432 with 1 Axes>"
            ]
          },
          "metadata": {
            "tags": [],
            "needs_background": "light"
          }
        }
      ]
    },
    {
      "cell_type": "code",
      "metadata": {
        "id": "-Igx-jIwxKV1"
      },
      "source": [
        ""
      ],
      "execution_count": null,
      "outputs": []
    }
  ]
}